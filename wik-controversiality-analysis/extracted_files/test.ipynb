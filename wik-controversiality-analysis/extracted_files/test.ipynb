{
 "cells": [
  {
   "cell_type": "markdown",
   "metadata": {},
   "source": [
    "# Option A"
   ]
  },
  {
   "cell_type": "code",
   "execution_count": 1,
   "metadata": {},
   "outputs": [],
   "source": [
    "def insert_option_a(A, n, new_customer):\n",
    "    if n < len(A):\n",
    "        A[n] = new_customer\n",
    "        return n + 1\n",
    "    else:\n",
    "        print(\"The array is already full\")\n",
    "        return n\n",
    "\n",
    "def search_option_a(A, n, customer):\n",
    "    for i in range(n):\n",
    "        if A[i] == customer:\n",
    "            return i\n",
    "    return -1\n",
    "\n",
    "def delete_option_a(A, n, customer):\n",
    "    i = 0\n",
    "    while i < n and A[i] != customer:\n",
    "        i += 1\n",
    "    if i == n:\n",
    "        print(\"This customer is not in the array\")\n",
    "    else:\n",
    "        while i < n - 1:\n",
    "            A[i] = A[i + 1]\n",
    "            i += 1\n",
    "        n -= 1\n",
    "    return n\n"
   ]
  },
  {
   "cell_type": "markdown",
   "metadata": {},
   "source": [
    "# Option B"
   ]
  },
  {
   "cell_type": "code",
   "execution_count": 2,
   "metadata": {},
   "outputs": [],
   "source": [
    "def insert_option_b(A, n, new_customer):    \n",
    "    if n < len(A):\n",
    "        i = 0\n",
    "        while i < n and A[i] < new_customer:\n",
    "            i += 1\n",
    "        j = n - 1\n",
    "        while j >= i:\n",
    "            A[j + 1] = A[j]\n",
    "            j -= 1\n",
    "        A[i] = new_customer\n",
    "        return n + 1\n",
    "    else:\n",
    "        print(\"The array is already full\")\n",
    "        return n\n",
    "\n",
    "def search_option_b(A, n, customer):\n",
    "    l, r = 0, n - 1\n",
    "    while l <= r:\n",
    "        m = (l + r) // 2\n",
    "        if A[m] == customer:\n",
    "            return m\n",
    "        elif A[m] > customer:\n",
    "            r = m - 1\n",
    "        else:\n",
    "            l = m + 1\n",
    "    return -1\n",
    "\n",
    "def delete_option_b(A, n, customer):\n",
    "    l, r = 0, n - 1\n",
    "    while l <= r:\n",
    "        m = (l + r) // 2\n",
    "        if A[m] == customer:\n",
    "            while m < n - 1:\n",
    "                A[m] = A[m + 1]\n",
    "                m += 1\n",
    "            n -= 1\n",
    "            return n\n",
    "        elif A[m] > customer:\n",
    "            r = m - 1\n",
    "        else:\n",
    "            l = m + 1\n",
    "    print(\"This customer is not in the array\")\n",
    "    return n\n"
   ]
  },
  {
   "cell_type": "markdown",
   "metadata": {},
   "source": [
    "# Testing"
   ]
  },
  {
   "cell_type": "code",
   "execution_count": 3,
   "metadata": {},
   "outputs": [
    {
     "name": "stdout",
     "output_type": "stream",
     "text": [
      "Testing Option A\n",
      "Option A Insert Time for size 100: 2.193450927734375e-05 seconds\n",
      "Option A Search Time for size 100: 0.00013589859008789062 seconds\n",
      "Option A Delete Time for size 100: 0.0002455711364746094 seconds\n",
      "Option A Insert Time for size 500: 8.296966552734375e-05 seconds\n",
      "Option A Search Time for size 500: 0.0027036666870117188 seconds\n",
      "Option A Delete Time for size 500: 0.005571842193603516 seconds\n",
      "Option A Insert Time for size 1000: 0.0001571178436279297 seconds\n",
      "Option A Search Time for size 1000: 0.010391950607299805 seconds\n",
      "Option A Delete Time for size 1000: 0.01935887336730957 seconds\n",
      "Option A Insert Time for size 5000: 0.0006656646728515625 seconds\n",
      "Option A Search Time for size 5000: 0.2053828239440918 seconds\n",
      "Option A Delete Time for size 5000: 0.43791794776916504 seconds\n",
      "\n",
      "Testing Option B\n",
      "Option B Insert Time for size 100: 0.00016021728515625 seconds\n",
      "Option B Search Time for size 100: 4.7206878662109375e-05 seconds\n",
      "Option B Delete Time for size 100: 0.00018167495727539062 seconds\n",
      "Option B Insert Time for size 500: 0.0031630992889404297 seconds\n",
      "Option B Search Time for size 500: 0.0002989768981933594 seconds\n",
      "Option B Delete Time for size 500: 0.003136873245239258 seconds\n",
      "Option B Insert Time for size 1000: 0.013176918029785156 seconds\n",
      "Option B Search Time for size 1000: 0.0006160736083984375 seconds\n",
      "Option B Delete Time for size 1000: 0.015110969543457031 seconds\n",
      "Option B Insert Time for size 5000: 0.3414337635040283 seconds\n",
      "Option B Search Time for size 5000: 0.004057884216308594 seconds\n",
      "Option B Delete Time for size 5000: 0.3286447525024414 seconds\n"
     ]
    }
   ],
   "source": [
    "import time\n",
    "\n",
    "def run_tests(option, sizes, test_type):\n",
    "    for N_max in sizes:\n",
    "        A = [None] * N_max\n",
    "        n = 0\n",
    "        \n",
    "        # Insert elements\n",
    "        start_time = time.time()\n",
    "        for i in range(N_max):\n",
    "            if option == \"A\":\n",
    "                n = insert_option_a(A, n, f\"customer_{i}\")\n",
    "            else:\n",
    "                n = insert_option_b(A, n, f\"customer_{i}\")\n",
    "        end_time = time.time()\n",
    "        print(f\"{test_type} Insert Time for size {N_max}: {end_time - start_time} seconds\")\n",
    "\n",
    "        # Search for each element\n",
    "        start_time = time.time()\n",
    "        for i in range(N_max):\n",
    "            if option == \"A\":\n",
    "                search_option_a(A, n, f\"customer_{i}\")\n",
    "            else:\n",
    "                search_option_b(A, n, f\"customer_{i}\")\n",
    "        end_time = time.time()\n",
    "        print(f\"{test_type} Search Time for size {N_max}: {end_time - start_time} seconds\")\n",
    "\n",
    "        # Delete each element\n",
    "        start_time = time.time()\n",
    "        for i in range(N_max):\n",
    "            if option == \"A\":\n",
    "                n = delete_option_a(A, n, f\"customer_{i}\")\n",
    "            else:\n",
    "                n = delete_option_b(A, n, f\"customer_{i}\")\n",
    "        end_time = time.time()\n",
    "        print(f\"{test_type} Delete Time for size {N_max}: {end_time - start_time} seconds\")\n",
    "\n",
    "# Define sizes for the tests\n",
    "sizes = [100, 500, 1000, 5000]\n",
    "\n",
    "print(\"Testing Option A\")\n",
    "run_tests(\"A\", sizes, \"Option A\")\n",
    "\n",
    "print(\"\\nTesting Option B\")\n",
    "run_tests(\"B\", sizes, \"Option B\")\n"
   ]
  },
  {
   "cell_type": "code",
   "execution_count": null,
   "metadata": {},
   "outputs": [],
   "source": []
  },
  {
   "cell_type": "code",
   "execution_count": null,
   "metadata": {},
   "outputs": [],
   "source": []
  }
 ],
 "metadata": {
  "kernelspec": {
   "display_name": "Python 3 (ipykernel)",
   "language": "python",
   "name": "python3"
  },
  "language_info": {
   "codemirror_mode": {
    "name": "ipython",
    "version": 3
   },
   "file_extension": ".py",
   "mimetype": "text/x-python",
   "name": "python",
   "nbconvert_exporter": "python",
   "pygments_lexer": "ipython3",
   "version": "3.11.5"
  }
 },
 "nbformat": 4,
 "nbformat_minor": 4
}
